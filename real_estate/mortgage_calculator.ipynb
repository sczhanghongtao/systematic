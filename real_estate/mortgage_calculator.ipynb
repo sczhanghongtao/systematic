{
 "cells": [
  {
   "cell_type": "code",
   "execution_count": 202,
   "id": "7a0418bf",
   "metadata": {},
   "outputs": [],
   "source": [
    "import pandas as pd\n",
    "import numpy as np\n",
    "from scipy.optimize import minimize\n",
    "import matplotlib.pyplot as plt\n",
    "import seaborn as sns\n",
    "from functools import partial"
   ]
  },
  {
   "cell_type": "code",
   "execution_count": 213,
   "id": "816075df",
   "metadata": {},
   "outputs": [],
   "source": [
    "house_price = 900000\n",
    "down_payment = 0.2\n",
    "federal_tax = 0.32\n",
    "inflation = (1+0.02)**(1/12.0)-1\n",
    "years = 30\n",
    "months = 12*years\n",
    "loan_amount = house_price*(1-down_payment)\n",
    "    \n",
    "apr = np.linspace(start=0.025,stop=0.039)\n",
    "apr = apr/12\n",
    "\n",
    "def loans_cal(apr,x):\n",
    "    interest_array = np.zeros(months+1)\n",
    "    principal_array = np.zeros(months+1)\n",
    "    principal_array[0] = loan_amount\n",
    "    for m in range(1,months+1):\n",
    "        interest_array[m] = principal_array[m-1]*apr\n",
    "        principal_array[m] = principal_array[m-1] - (x - interest_array[m])\n",
    "    return interest_array,principal_array\n",
    "\n",
    "def objective_func(apr,x):\n",
    "    total_loan = 0\n",
    "    interest,_=loans_cal(apr,x)\n",
    "    total_loan =loan_amount+sum(interest)\n",
    "    return abs(x*months-total_loan)"
   ]
  },
  {
   "cell_type": "code",
   "execution_count": 214,
   "id": "4c96f391",
   "metadata": {},
   "outputs": [],
   "source": [
    "\n",
    "loan_mv_all = np.zeros(len(apr))\n",
    "int_mv_all = np.zeros(len(apr))\n",
    "\n",
    "for i in range(len(apr)):\n",
    "    res = minimize(partial(objective_func,apr[i]), 1600,method = 'Nelder-Mead')\n",
    "    loan_mv = 0\n",
    "    int_mv = 0\n",
    "    interest_array,_ = loans_cal(apr[i],res.x[0])\n",
    "    for m in range(1,months+1):\n",
    "        loan_mv += (res.x[0]-interest_array[m]*federal_tax)/(1+inflation)**m\n",
    "        int_mv += interest_array[m]*(1-federal_tax)/(1+inflation)**m\n",
    "    loan_mv_all[i] = loan_mv\n",
    "    int_mv_all[i] = int_mv"
   ]
  },
  {
   "cell_type": "code",
   "execution_count": 215,
   "id": "ca3340a2",
   "metadata": {},
   "outputs": [],
   "source": [
    "loan_df = pd.DataFrame(index=list(range(months)),columns=['interest','principal','monthly_payment'])\n",
    "res = minimize(partial(objective_func,0.029/12), 1600,method = 'Nelder-Mead')\n",
    "interest_array,_ = loans_cal(0.029/12,res.x[0])\n",
    "loan_df.interest = interest_array[1:]\n",
    "loan_df.monthly_payment=res.x[0]\n",
    "loan_df.principal = loan_df.monthly_payment-loan_df.interest"
   ]
  },
  {
   "cell_type": "code",
   "execution_count": 216,
   "id": "ae5cd62c",
   "metadata": {},
   "outputs": [
    {
     "data": {
      "text/plain": [
       "Text(0.5, 1.0, 'sensitivity - discounted interest payment to principal')"
      ]
     },
     "execution_count": 216,
     "metadata": {},
     "output_type": "execute_result"
    },
    {
     "data": {
      "image/png": "[encoded data removed]",
      "text/plain": [
       "<Figure size 432x288 with 1 Axes>"
      ]
     },
     "metadata": {
      "needs_background": "light"
     },
     "output_type": "display_data"
    }
   ],
   "source": [
    "rate_price = pd.concat([pd.Series(apr),pd.Series(int_mv_all)],axis=1).set_index(0)/loan_amount\n",
    "current = np.where((0.029/12<=rate_price.index)&(0.0293/12>=rate_price.index))[0][0]\n",
    "rate_price.plot()\n",
    "sns.scatterplot(x=0,y=1,data=rate_price.reset_index().iloc[[current],:])\n",
    "plt.title('sensitivity - discounted interest payment to principal')"
   ]
  },
  {
   "cell_type": "code",
   "execution_count": 217,
   "id": "c7b0bfb8",
   "metadata": {},
   "outputs": [
    {
     "data": {
      "text/html": [
       "<div>\n",
       "<style scoped>\n",
       "    .dataframe tbody tr th:only-of-type {\n",
       "        vertical-align: middle;\n",
       "    }\n",
       "\n",
       "    .dataframe tbody tr th {\n",
       "        vertical-align: top;\n",
       "    }\n",
       "\n",
       "    .dataframe thead th {\n",
       "        text-align: right;\n",
       "    }\n",
       "</style>\n",
       "<table border=\"1\" class=\"dataframe\">\n",
       "  <thead>\n",
       "    <tr style=\"text-align: right;\">\n",
       "      <th></th>\n",
       "      <th>interest</th>\n",
       "      <th>principal</th>\n",
       "      <th>monthly_payment</th>\n",
       "    </tr>\n",
       "  </thead>\n",
       "  <tbody>\n",
       "    <tr>\n",
       "      <th>0</th>\n",
       "      <td>1740.000000</td>\n",
       "      <td>1256.855857</td>\n",
       "      <td>2996.855857</td>\n",
       "    </tr>\n",
       "    <tr>\n",
       "      <th>1</th>\n",
       "      <td>1736.962598</td>\n",
       "      <td>1259.893258</td>\n",
       "      <td>2996.855857</td>\n",
       "    </tr>\n",
       "    <tr>\n",
       "      <th>2</th>\n",
       "      <td>1733.917856</td>\n",
       "      <td>1262.938000</td>\n",
       "      <td>2996.855857</td>\n",
       "    </tr>\n",
       "    <tr>\n",
       "      <th>3</th>\n",
       "      <td>1730.865756</td>\n",
       "      <td>1265.990101</td>\n",
       "      <td>2996.855857</td>\n",
       "    </tr>\n",
       "    <tr>\n",
       "      <th>4</th>\n",
       "      <td>1727.806280</td>\n",
       "      <td>1269.049577</td>\n",
       "      <td>2996.855857</td>\n",
       "    </tr>\n",
       "    <tr>\n",
       "      <th>...</th>\n",
       "      <td>...</td>\n",
       "      <td>...</td>\n",
       "      <td>...</td>\n",
       "    </tr>\n",
       "    <tr>\n",
       "      <th>355</th>\n",
       "      <td>35.950945</td>\n",
       "      <td>2960.904912</td>\n",
       "      <td>2996.855857</td>\n",
       "    </tr>\n",
       "    <tr>\n",
       "      <th>356</th>\n",
       "      <td>28.795425</td>\n",
       "      <td>2968.060432</td>\n",
       "      <td>2996.855857</td>\n",
       "    </tr>\n",
       "    <tr>\n",
       "      <th>357</th>\n",
       "      <td>21.622612</td>\n",
       "      <td>2975.233245</td>\n",
       "      <td>2996.855857</td>\n",
       "    </tr>\n",
       "    <tr>\n",
       "      <th>358</th>\n",
       "      <td>14.432465</td>\n",
       "      <td>2982.423392</td>\n",
       "      <td>2996.855857</td>\n",
       "    </tr>\n",
       "    <tr>\n",
       "      <th>359</th>\n",
       "      <td>7.224942</td>\n",
       "      <td>2989.630915</td>\n",
       "      <td>2996.855857</td>\n",
       "    </tr>\n",
       "  </tbody>\n",
       "</table>\n",
       "<p>360 rows × 3 columns</p>\n",
       "</div>"
      ],
      "text/plain": [
       "        interest    principal  monthly_payment\n",
       "0    1740.000000  1256.855857      2996.855857\n",
       "1    1736.962598  1259.893258      2996.855857\n",
       "2    1733.917856  1262.938000      2996.855857\n",
       "3    1730.865756  1265.990101      2996.855857\n",
       "4    1727.806280  1269.049577      2996.855857\n",
       "..           ...          ...              ...\n",
       "355    35.950945  2960.904912      2996.855857\n",
       "356    28.795425  2968.060432      2996.855857\n",
       "357    21.622612  2975.233245      2996.855857\n",
       "358    14.432465  2982.423392      2996.855857\n",
       "359     7.224942  2989.630915      2996.855857\n",
       "\n",
       "[360 rows x 3 columns]"
      ]
     },
     "execution_count": 217,
     "metadata": {},
     "output_type": "execute_result"
    }
   ],
   "source": [
    "loan_df"
   ]
  }
 ],
 "metadata": {
  "kernelspec": {
   "display_name": "Python 3 (ipykernel)",
   "language": "python",
   "name": "python3"
  },
  "language_info": {
   "codemirror_mode": {
    "name": "ipython",
    "version": 3
   },
   "file_extension": ".py",
   "mimetype": "text/x-python",
   "name": "python",
   "nbconvert_exporter": "python",
   "pygments_lexer": "ipython3",
   "version": "3.9.4"
  }
 },
 "nbformat": 4,
 "nbformat_minor": 5
}
